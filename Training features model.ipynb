{
 "cells": [
  {
   "cell_type": "code",
   "execution_count": 8,
   "id": "96febfb8",
   "metadata": {},
   "outputs": [],
   "source": [
    "import numpy as np\n",
    "import pandas as pd\n",
    "from sklearn.metrics import accuracy_score, classification_report, confusion_matrix\n",
    "from sklearn.preprocessing import OneHotEncoder\n",
    "from sklearn.svm import SVC\n",
    "from sklearn.model_selection import GridSearchCV\n",
    "from collections import Counter \n",
    "from sklearn.feature_extraction.text import CountVectorizer\n",
    "from scipy.sparse import csr_matrix, hstack\n",
    "import itertools\n",
    "from sklearn.decomposition import PCA\n",
    "from sklearn.preprocessing import StandardScaler\n",
    "import joblib"
   ]
  },
  {
   "cell_type": "code",
   "execution_count": 2,
   "id": "c398c052",
   "metadata": {},
   "outputs": [],
   "source": [
    "train_feat = np.load(\"datasets/train/train_feature.npz\", allow_pickle=True)\n",
    "train_feat_X = train_feat['features']\n",
    "train_feat_Y = train_feat['label']\n",
    "\n",
    "val_feat = np.load(\"datasets/valid/valid_feature.npz\", allow_pickle=True)\n",
    "val_feat_X = val_feat['features']\n",
    "val_feat_Y = val_feat['label']"
   ]
  },
  {
   "cell_type": "code",
   "execution_count": 3,
   "id": "22aa2337",
   "metadata": {},
   "outputs": [],
   "source": [
    "n_samples_train = train_feat_X.shape[0]\n",
    "n_samples_val = val_feat_X.shape[0]\n",
    "\n",
    "X_train_flattened = train_feat_X.reshape(n_samples_train, -1)  \n",
    "X_val_flattened = val_feat_X.reshape(n_samples_val, -1) "
   ]
  },
  {
   "cell_type": "code",
   "execution_count": 4,
   "id": "19314ad5",
   "metadata": {},
   "outputs": [],
   "source": [
    "pca = PCA(n_components=100)  # Set the desired number of components\n",
    "pca.fit(X_train_flattened)\n",
    "\n",
    "X_train_pca = pca.transform(X_train_flattened)\n",
    "X_val_pca = pca.transform(X_val_flattened)"
   ]
  },
  {
   "cell_type": "code",
   "execution_count": 6,
   "id": "4c0670f9",
   "metadata": {},
   "outputs": [
    {
     "name": "stdout",
     "output_type": "stream",
     "text": [
      "Accuracy: 0.99\n",
      "              precision    recall  f1-score   support\n",
      "\n",
      "           0       0.99      0.99      0.99       252\n",
      "           1       0.99      0.99      0.99       237\n",
      "\n",
      "    accuracy                           0.99       489\n",
      "   macro avg       0.99      0.99      0.99       489\n",
      "weighted avg       0.99      0.99      0.99       489\n",
      "\n"
     ]
    }
   ],
   "source": [
    "model = SVC(C=100, gamma= 0.01, kernel= 'rbf')\n",
    "model.fit(X_train_pca,train_feat_Y)\n",
    "\n",
    "y_pred = model.predict(X_val_pca)\n",
    "accuracy = accuracy_score(val_feat_Y, y_pred)\n",
    "print(f\"Accuracy: {accuracy:.2f}\")\n",
    "print(classification_report(val_feat_Y, y_pred))"
   ]
  },
  {
   "cell_type": "code",
   "execution_count": 10,
   "id": "648be48e",
   "metadata": {},
   "outputs": [
    {
     "data": {
      "text/plain": [
       "['Trained_features_model.pkl']"
      ]
     },
     "execution_count": 10,
     "metadata": {},
     "output_type": "execute_result"
    }
   ],
   "source": [
    "joblib.dump(pca, 'PCA_for_features_model.pkl')\n",
    "joblib.dump(model, 'Trained_features_model.pkl')"
   ]
  }
 ],
 "metadata": {
  "kernelspec": {
   "display_name": "Python 3 (ipykernel)",
   "language": "python",
   "name": "python3"
  },
  "language_info": {
   "codemirror_mode": {
    "name": "ipython",
    "version": 3
   },
   "file_extension": ".py",
   "mimetype": "text/x-python",
   "name": "python",
   "nbconvert_exporter": "python",
   "pygments_lexer": "ipython3",
   "version": "3.9.7"
  }
 },
 "nbformat": 4,
 "nbformat_minor": 5
}
