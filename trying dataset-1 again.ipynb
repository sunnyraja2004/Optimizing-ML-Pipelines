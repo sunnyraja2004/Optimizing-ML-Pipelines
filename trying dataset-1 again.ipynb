{
 "cells": [
  {
   "cell_type": "code",
   "execution_count": 1,
   "id": "fc56cfb0",
   "metadata": {},
   "outputs": [],
   "source": [
    "import numpy as np\n",
    "import pandas as pd\n",
    "from sklearn.preprocessing import OneHotEncoder\n",
    "from sklearn.compose import ColumnTransformer\n",
    "from sklearn.tree import DecisionTreeClassifier\n",
    "from sklearn.metrics import accuracy_score\n",
    "from sklearn.model_selection import train_test_split,GridSearchCV,RandomizedSearchCV\n",
    "from sklearn.ensemble import RandomForestClassifier\n",
    "from sklearn.linear_model import LogisticRegression\n",
    "import matplotlib.pyplot as plt\n",
    "import xgboost as xgb\n",
    "from xgboost import XGBClassifier\n",
    "from sklearn import svm\n",
    "from sklearn.model_selection import StratifiedKFold, train_test_split\n",
    "import itertools"
   ]
  },
  {
   "cell_type": "code",
   "execution_count": 2,
   "id": "62b31eb7",
   "metadata": {},
   "outputs": [],
   "source": [
    "import optuna\n",
    "from sklearn.model_selection import cross_val_score"
   ]
  },
  {
   "cell_type": "code",
   "execution_count": 3,
   "id": "e1208424",
   "metadata": {},
   "outputs": [],
   "source": [
    "from sklearn.svm import SVC"
   ]
  },
  {
   "cell_type": "code",
   "execution_count": 4,
   "id": "bb830056",
   "metadata": {},
   "outputs": [],
   "source": [
    "import warnings\n",
    "warnings.filterwarnings('ignore')"
   ]
  },
  {
   "cell_type": "code",
   "execution_count": 5,
   "id": "2a507be8",
   "metadata": {},
   "outputs": [],
   "source": [
    "# Load the training dataset for emoticons from the CSV file\n",
    "train_emoticon_df = pd.read_csv(\"train_emoticon.csv\")\n",
    "\n",
    "# Shuffle the training dataset randomly using a fixed random state for reproducibility\n",
    "train_emoticon_df = train_emoticon_df.sample(frac=1, random_state=42)\n",
    "\n",
    "# Extract the 'input_emoticon' column as a list for training input data (features)\n",
    "train_emoticon_X = train_emoticon_df['input_emoticon'].tolist()\n",
    "\n",
    "# Extract the 'label' column as a list for training target data (labels)\n",
    "train_emoticon_Y = train_emoticon_df['label'].tolist()\n",
    "\n",
    "# Load the validation dataset for emoticons from the CSV file\n",
    "val_emoticon_df = pd.read_csv(\"valid_emoticon.csv\")\n",
    "\n",
    "# Extract the 'input_emoticon' column as a list for validation input data (features)\n",
    "val_emoticon_X = val_emoticon_df['input_emoticon'].tolist()\n",
    "\n",
    "# Extract the 'label' column as a list for validation target data (labels)\n",
    "val_emoticon_Y = val_emoticon_df['label'].tolist()"
   ]
  },
  {
   "cell_type": "markdown",
   "id": "3ad5663f",
   "metadata": {},
   "source": [
    "**ENCODING THE EMOJI'S DATA**\n",
    "---"
   ]
  },
  {
   "cell_type": "code",
   "execution_count": 6,
   "id": "7c6fba3a",
   "metadata": {},
   "outputs": [
    {
     "name": "stdout",
     "output_type": "stream",
     "text": [
      "Total unique emojis: 214\n"
     ]
    }
   ],
   "source": [
    "unique_emojis = list(set(''.join(train_emoticon_X)))\n",
    "\n",
    "# Print the total number of unique emojis\n",
    "print(f\"Total unique emojis: {len(unique_emojis)}\")\n",
    "\n",
    "# Initialize the OneHotEncoder to convert emojis into a one-hot encoded format\n",
    "emoji_encoder = OneHotEncoder(handle_unknown='ignore', sparse_output=False)\n",
    "\n",
    "# Fit the encoder with unique emojis wrapped in list format\n",
    "emoji_encoder.fit([[emoji] for emoji in unique_emojis])\n",
    "\n",
    "# Transform the training sequences into one-hot encoded format\n",
    "encoded_train_data = [\n",
    "    emoji_encoder.transform([[emoji] for emoji in emoji_sequence]) for emoji_sequence in train_emoticon_X\n",
    "]\n",
    "\n",
    "# Transform the validation sequences into one-hot encoded format\n",
    "encoded_val_data = [\n",
    "    emoji_encoder.transform([[emoji] for emoji in emoji_sequence]) for emoji_sequence in val_emoticon_X\n",
    "]\n",
    "\n",
    "# Flatten the one-hot encoded arrays for each sequence in the training set\n",
    "encoded_train_data = [\n",
    "    list(itertools.chain.from_iterable(encoded_sequence)) for encoded_sequence in encoded_train_data\n",
    "]\n",
    "\n",
    "# Flatten the one-hot encoded arrays for each sequence in the validation set\n",
    "encoded_val_data = [\n",
    "    list(itertools.chain.from_iterable(encoded_sequence)) for encoded_sequence in encoded_val_data\n",
    "]"
   ]
  },
  {
   "cell_type": "markdown",
   "id": "cb45876e",
   "metadata": {},
   "source": [
    "**TRYING DIFFERENT ML MODELS**\n",
    "---"
   ]
  },
  {
   "cell_type": "markdown",
   "id": "aba4f378",
   "metadata": {},
   "source": [
    "**1)LOGISTIC REGRESSION**"
   ]
  },
  {
   "cell_type": "code",
   "execution_count": 8,
   "id": "2bf7bd02",
   "metadata": {},
   "outputs": [],
   "source": [
    "# Initialize a Logistic Regression model with specific hyperparameters\n",
    "# C=10: Regularization strength (lower values specify stronger regularization)\n",
    "# penalty='l1': L1 regularization (Lasso), which encourages sparsity in the model\n",
    "# solver='saga': An optimization algorithm that supports L1 regularization for large datasets\n",
    "lr = LogisticRegression(C=10, penalty='l1', solver='saga')\n",
    "\n",
    "# Train the logistic regression model using the encoded training data\n",
    "# encoded_train_data: Feature matrix for training data\n",
    "# train_emoticon_Y: Target labels for training data\n",
    "model = lr.fit(encoded_train_data, train_emoticon_Y)\n",
    "\n",
    "# Make predictions on the training data\n",
    "# This checks how well the model fits the data it was trained on\n",
    "pred = model.predict(encoded_train_data)\n",
    "\n",
    "# Make predictions on the validation data\n",
    "# This checks the model's performance on unseen validation data\n",
    "pred2 = model.predict(encoded_val_data)"
   ]
  },
  {
   "cell_type": "code",
   "execution_count": 9,
   "id": "6fb74a37",
   "metadata": {},
   "outputs": [
    {
     "name": "stdout",
     "output_type": "stream",
     "text": [
      "Model accuracy for training data is: 99.96%\n",
      "Model accuracy for test data is: 93.25%\n"
     ]
    }
   ],
   "source": [
    "# Calculate the accuracy of the model on the training data\n",
    "# accuracy_score compares the true labels (train_emoticon_Y) with the predictions (pred)\n",
    "accuracy = accuracy_score(train_emoticon_Y, pred)\n",
    "\n",
    "# Calculate the accuracy of the model on the validation data\n",
    "# accuracy_score compares the true labels (val_emoticon_Y) with the validation predictions (pred2)\n",
    "accuracy2 = accuracy_score(val_emoticon_Y, pred2)\n",
    "\n",
    "# Print the model's accuracy on the training data, formatted to 2 decimal places\n",
    "print(f\"Model accuracy for training data is: {accuracy * 100:.2f}%\")\n",
    "\n",
    "# Print the model's accuracy on the validation (test) data, formatted to 2 decimal places\n",
    "print(f\"Model accuracy for validation data is: {accuracy2 * 100:.2f}%\")"
   ]
  },
  {
   "cell_type": "code",
   "execution_count": 12,
   "id": "f64007f4",
   "metadata": {},
   "outputs": [],
   "source": [
    "# Convert the encoded training data (encoded_train_data) to a NumPy array\n",
    "# This ensures the data is in the proper format for model training (if needed)\n",
    "encoded_train_data2 = np.array(encoded_train_data)\n",
    "\n",
    "# Convert the training labels (train_emoticon_Y) to a NumPy array\n",
    "# This ensures consistency in data format, which may be required for certain models or libraries\n",
    "train_emoticon_Y2 = np.array(train_emoticon_Y)\n",
    "\n",
    "\n",
    "encoded_val_data2=np.array(encoded_val_data)\n",
    "\n",
    "val_emoticon_Y2=np.array(val_emoticon_Y)"
   ]
  },
  {
   "cell_type": "code",
   "execution_count": 13,
   "id": "6a1983f8",
   "metadata": {
    "scrolled": false
   },
   "outputs": [
    {
     "data": {
      "image/png": "[encoded data removed]",
      "text/plain": [
       "<Figure size 576x432 with 1 Axes>"
      ]
     },
     "metadata": {
      "needs_background": "light"
     },
     "output_type": "display_data"
    }
   ],
   "source": [
    "# Define the fractions (percentages) of training data to use\n",
    "fraction = [20, 40, 60, 80, 100]\n",
    "\n",
    "# List to store the average validation accuracies for each fraction of training data\n",
    "validation_accuracies = []\n",
    "\n",
    "# Loop through each fraction of data\n",
    "for it in fraction:\n",
    "    # Set up 5-fold cross-validation with stratified splitting to preserve class distribution\n",
    "    kf = StratifiedKFold(n_splits=5, shuffle=True, random_state=42)\n",
    "    fold_accuracies = []  # List to store accuracies for each fold\n",
    "    \n",
    "    # Perform the cross-validation\n",
    "    for train_index, _ in kf.split(encoded_train_data2, train_emoticon_Y2):\n",
    "        # Split the training data into a subset corresponding to 'it%' for training\n",
    "        if it < 100:\n",
    "            # Randomly select 'it%' of the training data\n",
    "            X_train_subset, _, y_train_subset, _ = train_test_split(\n",
    "                encoded_train_data2[train_index], train_emoticon_Y2[train_index], \n",
    "                train_size=it * 0.01, random_state=42\n",
    "            )\n",
    "        else:\n",
    "            # If using 100%, select the entire training set\n",
    "            X_train_subset, y_train_subset = encoded_train_data2, train_emoticon_Y2\n",
    "        \n",
    "        # Initialize the Logistic Regression model with L1 regularization and 'saga' solver\n",
    "        lr = LogisticRegression(C=10, penalty='l1', solver='saga')\n",
    "        \n",
    "        # Train the model on the selected subset of training data\n",
    "        model = lr.fit(X_train_subset, y_train_subset)\n",
    "        \n",
    "        # Make predictions on the entire validation set\n",
    "        y_pred = model.predict(encoded_val_data2)\n",
    "        \n",
    "        # Calculate accuracy on the validation set\n",
    "        accuracy = accuracy_score(val_emoticon_Y2, y_pred)\n",
    "        fold_accuracies.append(accuracy)  # Store the accuracy for this fold\n",
    "    \n",
    "    # Compute the average accuracy for this fraction of training data\n",
    "    avg_accuracy = np.mean(fold_accuracies)\n",
    "    \n",
    "    # Append the average validation accuracy to the list for plotting later\n",
    "    validation_accuracies.append(avg_accuracy)\n",
    "\n",
    "# Plotting the graph\n",
    "plt.figure(figsize=(8, 6))  # Set the figure size for the plot\n",
    "plt.plot(fraction, validation_accuracies, marker='o', linestyle='-', color='b', label='Validation Accuracy')\n",
    "\n",
    "# Add labels to the x-axis and y-axis\n",
    "plt.xlabel('Training Data Percentage (%)')\n",
    "plt.ylabel('Validation Accuracy')\n",
    "\n",
    "# Add a title to the plot\n",
    "plt.title('Validation Accuracy vs. Training Data Percentage')\n",
    "\n",
    "# Enable grid lines for better visualization\n",
    "plt.grid(True)\n",
    "\n",
    "# Add a legend to the plot\n",
    "plt.legend()\n",
    "\n",
    "# Display the plot\n",
    "plt.show()"
   ]
  },
  {
   "cell_type": "code",
   "execution_count": null,
   "id": "7e6b5b85",
   "metadata": {},
   "outputs": [],
   "source": []
  },
  {
   "cell_type": "code",
   "execution_count": null,
   "id": "5164a66e",
   "metadata": {},
   "outputs": [],
   "source": []
  },
  {
   "cell_type": "code",
   "execution_count": null,
   "id": "f594d422",
   "metadata": {},
   "outputs": [],
   "source": []
  },
  {
   "cell_type": "markdown",
   "id": "0cb6c9a8",
   "metadata": {},
   "source": [
    "**2)DECISION TREES**"
   ]
  },
  {
   "cell_type": "code",
   "execution_count": 14,
   "id": "0f7b0627",
   "metadata": {},
   "outputs": [
    {
     "name": "stdout",
     "output_type": "stream",
     "text": [
      "Accuracy of the model on validation data is: 0.7586912065439673\n",
      "Accuracy of the model on training data is: 1.0\n"
     ]
    }
   ],
   "source": [
    "# Initialize a Decision Tree Classifier with default hyperparameters\n",
    "dtc = DecisionTreeClassifier()\n",
    "\n",
    "# Train the decision tree classifier on the encoded training data and labels\n",
    "# encoded_train_data: Feature matrix for training data\n",
    "# train_emoticon_Y: Target labels for training data\n",
    "model = dtc.fit(encoded_train_data, train_emoticon_Y)\n",
    "\n",
    "# Predict labels for the validation data (encoded_val_data)\n",
    "# This will give us the predicted labels based on the model's learning\n",
    "pred = model.predict(encoded_val_data)\n",
    "\n",
    "# Calculate accuracy on the validation data by comparing predicted labels with true labels\n",
    "acc = accuracy_score(pred, val_emoticon_Y)*100\n",
    "\n",
    "# Print the accuracy of the model on the validation data\n",
    "print(\"Accuracy of the model on validation data is:\", acc)\n",
    "\n",
    "# Predict labels for the training data to calculate training accuracy\n",
    "pred_train = model.predict(encoded_train_data)\n",
    "\n",
    "# Calculate the accuracy of the model on the training data\n",
    "train_acc = accuracy_score(pred_train, train_emoticon_Y)*100\n",
    "\n",
    "# Print the accuracy of the model on the training data\n",
    "print(\"Accuracy of the model on training data is:\", train_acc)"
   ]
  },
  {
   "cell_type": "code",
   "execution_count": 11,
   "id": "3e82e4d7",
   "metadata": {},
   "outputs": [
    {
     "name": "stderr",
     "output_type": "stream",
     "text": [
      "[I 2024-10-12 18:17:47,950] A new study created in memory with name: no-name-0b48bc21-85ea-437a-a81a-4b68fb6a8f27\n",
      "[I 2024-10-12 18:19:31,799] Trial 0 finished with value: 0.7819209039548023 and parameters: {'max_depth': 454, 'min_samples_split': 13, 'criterion': 'gini'}. Best is trial 0 with value: 0.7819209039548023.\n",
      "[I 2024-10-12 18:21:08,318] Trial 1 finished with value: 0.7837570621468926 and parameters: {'max_depth': 368, 'min_samples_split': 17, 'criterion': 'gini'}. Best is trial 1 with value: 0.7837570621468926.\n",
      "[I 2024-10-12 18:23:00,337] Trial 2 finished with value: 0.7755649717514124 and parameters: {'max_depth': 446, 'min_samples_split': 10, 'criterion': 'gini'}. Best is trial 1 with value: 0.7837570621468926.\n",
      "[I 2024-10-12 18:24:51,574] Trial 3 finished with value: 0.7829096045197741 and parameters: {'max_depth': 458, 'min_samples_split': 12, 'criterion': 'gini'}. Best is trial 1 with value: 0.7837570621468926.\n",
      "[I 2024-10-12 18:26:37,324] Trial 4 finished with value: 0.7786723163841808 and parameters: {'max_depth': 332, 'min_samples_split': 16, 'criterion': 'gini'}. Best is trial 1 with value: 0.7837570621468926.\n",
      "[I 2024-10-12 18:28:18,236] Trial 5 finished with value: 0.788276836158192 and parameters: {'max_depth': 395, 'min_samples_split': 19, 'criterion': 'gini'}. Best is trial 5 with value: 0.788276836158192.\n",
      "[I 2024-10-12 18:29:53,036] Trial 6 finished with value: 0.7786723163841808 and parameters: {'max_depth': 325, 'min_samples_split': 19, 'criterion': 'gini'}. Best is trial 5 with value: 0.788276836158192.\n",
      "[I 2024-10-12 18:31:25,720] Trial 7 finished with value: 0.7774011299435027 and parameters: {'max_depth': 353, 'min_samples_split': 13, 'criterion': 'gini'}. Best is trial 5 with value: 0.788276836158192.\n",
      "[I 2024-10-12 18:32:56,694] Trial 8 finished with value: 0.7778248587570621 and parameters: {'max_depth': 373, 'min_samples_split': 12, 'criterion': 'gini'}. Best is trial 5 with value: 0.788276836158192.\n",
      "[I 2024-10-12 18:34:35,209] Trial 9 finished with value: 0.7854519774011299 and parameters: {'max_depth': 481, 'min_samples_split': 17, 'criterion': 'gini'}. Best is trial 5 with value: 0.788276836158192.\n"
     ]
    },
    {
     "name": "stdout",
     "output_type": "stream",
     "text": [
      "Best Hyperparameters:  {'max_depth': 395, 'min_samples_split': 19, 'criterion': 'gini'}\n",
      "Accuracy on test set: 0.7873\n"
     ]
    }
   ],
   "source": [
    "def objective(trial):\n",
    "    # Suggest values for the hyperparameters using Optuna\n",
    "    # max_depth: The maximum depth of the decision tree, controlling its size\n",
    "    max_depth = trial.suggest_int('max_depth', 300, 500)\n",
    "    \n",
    "    # min_samples_split: The minimum number of samples required to split a node\n",
    "    min_samples_split = trial.suggest_int('min_samples_split', 10, 20)\n",
    "    \n",
    "    # criterion: The function to measure the quality of a split ('gini' or 'entropy')\n",
    "    criterion = trial.suggest_categorical('criterion', ['gini', 'entropy'])\n",
    "    \n",
    "    # Initialize the Decision Tree Classifier with the suggested hyperparameters\n",
    "    model = DecisionTreeClassifier(\n",
    "        max_depth=max_depth,\n",
    "        min_samples_split=min_samples_split,\n",
    "        criterion=criterion,\n",
    "        random_state=42  # Ensures reproducibility\n",
    "    )\n",
    "    \n",
    "    # Evaluate the model using 5-fold cross-validation on the training data\n",
    "    # cross_val_score returns the accuracy score for each fold; we take the mean accuracy\n",
    "    score = cross_val_score(model, encoded_train_data, train_emoticon_Y, cv=5, scoring='accuracy').mean()\n",
    "    \n",
    "    # Return the mean cross-validation score as the objective value\n",
    "    return score\n",
    "\n",
    "# Create an Optuna study object for hyperparameter optimization\n",
    "# direction='maximize' indicates we want to maximize the accuracy score\n",
    "study = optuna.create_study(direction='maximize')\n",
    "\n",
    "# Run the optimization process for the defined number of trials (10 in this case)\n",
    "study.optimize(objective, n_trials=10)\n",
    "\n",
    "# Retrieve the best hyperparameters from the study\n",
    "best_params = study.best_params\n",
    "print(\"Best Hyperparameters: \", best_params)\n",
    "\n",
    "# Train the Decision Tree Classifier with the best hyperparameters\n",
    "best_model = DecisionTreeClassifier(**best_params, random_state=42)\n",
    "\n",
    "# Fit the model to the full training dataset\n",
    "best_model.fit(encoded_train_data, train_emoticon_Y)\n",
    "\n",
    "# Evaluate the model on the validation data and calculate the accuracy\n",
    "accuracy = best_model.score(encoded_val_data, val_emoticon_Y)\n",
    "\n",
    "# Print the accuracy on the validation set (formatted to 4 decimal places)\n",
    "print(f\"Accuracy on test set: {accuracy:.4f}\")"
   ]
  },
  {
   "cell_type": "code",
   "execution_count": 15,
   "id": "a0462be0",
   "metadata": {},
   "outputs": [
    {
     "data": {
      "image/png": "[encoded data removed]",
      "text/plain": [
       "<Figure size 576x432 with 1 Axes>"
      ]
     },
     "metadata": {
      "needs_background": "light"
     },
     "output_type": "display_data"
    }
   ],
   "source": [
    "# Define the fractions (percentages) of the training data to use for training the model\n",
    "fraction = [20, 40, 60, 80, 100]\n",
    "\n",
    "# List to store the average validation accuracies for each fraction of training data\n",
    "validation_accuracies = []\n",
    "\n",
    "# Loop through each fraction of data (20%, 40%, 60%, 80%, 100%)\n",
    "for it in fraction:\n",
    "    # StratifiedKFold is used to split the data into 5 folds, ensuring class distribution is maintained\n",
    "    kf = StratifiedKFold(n_splits=5, shuffle=True, random_state=42)\n",
    "    fold_accuracies = []  # List to store accuracies for each fold in this fraction\n",
    "\n",
    "    # Perform cross-validation\n",
    "    for train_index, _ in kf.split(encoded_train_data2, train_emoticon_Y2):\n",
    "        # Split the training data into 'it%' for training and discard the rest\n",
    "        if it < 100:\n",
    "            # Use train_test_split to randomly sample 'it%' of the training data\n",
    "            X_train_subset, _, y_train_subset, _ = train_test_split(\n",
    "                encoded_train_data2[train_index], train_emoticon_Y2[train_index], \n",
    "                train_size=it * 0.01, random_state=42  # 'it * 0.01' converts percentage to fraction\n",
    "            )\n",
    "        else:\n",
    "            # If using 100%, select the entire training set\n",
    "            X_train_subset, y_train_subset = encoded_train_data2, train_emoticon_Y2\n",
    "\n",
    "        # Train the Decision Tree Classifier using the selected subset of training data\n",
    "        lr = DecisionTreeClassifier(max_depth=395, min_samples_split=19, criterion='gini')\n",
    "        model = lr.fit(X_train_subset, y_train_subset)\n",
    "\n",
    "        # Predict the labels on the entire validation set\n",
    "        y_pred = model.predict(encoded_val_data2)\n",
    "\n",
    "        # Calculate the accuracy on the validation set and append it to the fold accuracies\n",
    "        accuracy = accuracy_score(val_emoticon_Y2, y_pred)\n",
    "        fold_accuracies.append(accuracy)\n",
    "    \n",
    "    # Compute the average accuracy across all folds for the current fraction of training data\n",
    "    avg_accuracy = np.mean(fold_accuracies)\n",
    "    \n",
    "    # Append the average accuracy to the list for plotting later\n",
    "    validation_accuracies.append(avg_accuracy)\n",
    "\n",
    "# Plotting the graph of fraction of training data vs. validation accuracy\n",
    "plt.figure(figsize=(8, 6))  # Set the size of the plot\n",
    "plt.plot(fraction, validation_accuracies, marker='o', linestyle='-', color='b', label='Validation Accuracy')\n",
    "\n",
    "# Add labels to the x-axis and y-axis\n",
    "plt.xlabel('Training Data Percentage (%)')\n",
    "plt.ylabel('Validation Accuracy')\n",
    "\n",
    "# Add a title to the plot\n",
    "plt.title('Validation Accuracy vs. Training Data Percentage')\n",
    "\n",
    "# Enable grid lines for better visualization\n",
    "plt.grid(True)\n",
    "\n",
    "# Add a legend to the plot\n",
    "plt.legend()\n",
    "\n",
    "# Display the plot\n",
    "plt.show()\n"
   ]
  },
  {
   "cell_type": "code",
   "execution_count": null,
   "id": "4f722a0e",
   "metadata": {},
   "outputs": [],
   "source": []
  },
  {
   "cell_type": "code",
   "execution_count": null,
   "id": "0ba260ad",
   "metadata": {},
   "outputs": [],
   "source": []
  },
  {
   "cell_type": "code",
   "execution_count": null,
   "id": "0bcb8e03",
   "metadata": {},
   "outputs": [],
   "source": []
  },
  {
   "cell_type": "markdown",
   "id": "67b34f03",
   "metadata": {},
   "source": [
    "**3)RANDOM FOREST CLASSIFIER**"
   ]
  },
  {
   "cell_type": "code",
   "execution_count": 22,
   "id": "505f64fa",
   "metadata": {},
   "outputs": [
    {
     "name": "stdout",
     "output_type": "stream",
     "text": [
      "Accuracy of the current model on validation data is: 81.79959100204499\n",
      "Accuracy of the current model on training data is: 100.0\n"
     ]
    }
   ],
   "source": [
    "# Initialize a Random Forest Classifier with default hyperparameters\n",
    "rf = RandomForestClassifier()\n",
    "\n",
    "# Fit the Random Forest model on the encoded training data and corresponding labels\n",
    "# encoded_train_data2: Feature matrix for training data\n",
    "# train_emoticon_Y2: Target labels for training data\n",
    "model = rf.fit(encoded_train_data2, train_emoticon_Y2)\n",
    "\n",
    "# Predict labels for the validation data (encoded_val_data2)\n",
    "# This will give us the predicted labels based on the model's learning\n",
    "pred = model.predict(encoded_val_data2)\n",
    "\n",
    "# Calculate accuracy on the validation data by comparing predicted labels with true labels\n",
    "acc = accuracy_score(pred, val_emoticon_Y2)*100\n",
    "\n",
    "# Print the accuracy of the model on the validation data\n",
    "print(\"Accuracy of the current model on validation data is:\", acc)\n",
    "\n",
    "# Predict labels for the training data to calculate training accuracy\n",
    "pred_train = model.predict(encoded_train_data2)\n",
    "\n",
    "# Calculate the accuracy of the model on the training data\n",
    "train_acc = accuracy_score(pred_train, train_emoticon_Y2)*100\n",
    "\n",
    "# Print the accuracy of the model on the training data\n",
    "print(\"Accuracy of the current model on training data is:\", train_acc)\n"
   ]
  },
  {
   "cell_type": "code",
   "execution_count": 24,
   "id": "c1d2b68a",
   "metadata": {
    "scrolled": true
   },
   "outputs": [
    {
     "name": "stderr",
     "output_type": "stream",
     "text": [
      "[I 2024-10-19 15:17:28,543] A new study created in memory with name: no-name-f043478e-a592-4dac-bc91-10c6ecb788d4\n",
      "[I 2024-10-19 15:19:18,650] Trial 0 finished with value: 0.7950564971751412 and parameters: {'max_depth': 470, 'min_samples_split': 1700, 'criterion': 'gini'}. Best is trial 0 with value: 0.7950564971751412.\n",
      "[I 2024-10-19 15:21:14,770] Trial 1 finished with value: 0.7930790960451978 and parameters: {'max_depth': 500, 'min_samples_split': 2200, 'criterion': 'gini'}. Best is trial 0 with value: 0.7950564971751412.\n",
      "[I 2024-10-19 15:23:26,760] Trial 2 finished with value: 0.8159604519774011 and parameters: {'max_depth': 480, 'min_samples_split': 1500, 'criterion': 'entropy'}. Best is trial 2 with value: 0.8159604519774011.\n",
      "[I 2024-10-19 15:25:38,881] Trial 3 finished with value: 0.8149717514124294 and parameters: {'max_depth': 470, 'min_samples_split': 1700, 'criterion': 'entropy'}. Best is trial 2 with value: 0.8159604519774011.\n",
      "[I 2024-10-19 15:27:56,022] Trial 4 finished with value: 0.8142655367231638 and parameters: {'max_depth': 500, 'min_samples_split': 2200, 'criterion': 'entropy'}. Best is trial 2 with value: 0.8159604519774011.\n",
      "[I 2024-10-19 15:29:51,146] Trial 5 finished with value: 0.7971751412429379 and parameters: {'max_depth': 460, 'min_samples_split': 1500, 'criterion': 'gini'}. Best is trial 2 with value: 0.8159604519774011.\n",
      "[I 2024-10-19 15:31:58,986] Trial 6 finished with value: 0.8128531073446329 and parameters: {'max_depth': 450, 'min_samples_split': 1700, 'criterion': 'entropy'}. Best is trial 2 with value: 0.8159604519774011.\n",
      "[I 2024-10-19 15:34:08,467] Trial 7 finished with value: 0.8159604519774011 and parameters: {'max_depth': 480, 'min_samples_split': 1500, 'criterion': 'entropy'}. Best is trial 2 with value: 0.8159604519774011.\n",
      "[I 2024-10-19 15:36:18,441] Trial 8 finished with value: 0.8165254237288135 and parameters: {'max_depth': 450, 'min_samples_split': 1500, 'criterion': 'entropy'}. Best is trial 8 with value: 0.8165254237288135.\n",
      "[I 2024-10-19 15:38:05,873] Trial 9 finished with value: 0.7950564971751412 and parameters: {'max_depth': 490, 'min_samples_split': 1700, 'criterion': 'gini'}. Best is trial 8 with value: 0.8165254237288135.\n"
     ]
    },
    {
     "name": "stdout",
     "output_type": "stream",
     "text": [
      "Best Hyperparameters:  {'max_depth': 450, 'min_samples_split': 1500, 'criterion': 'entropy'}\n",
      "Accuracy on test set: 0.8323\n"
     ]
    }
   ],
   "source": [
    "def objective(trial):\n",
    "    # Suggest values for hyperparameters to be tuned\n",
    "    max_depth = trial.suggest_categorical('max_depth', np.linspace(450, 500, 6, dtype=int))  # Depth of the tree\n",
    "    max_leaf_nodes = trial.suggest_categorical('max_leaf_nodes', [1500, 1700, 1900, 2200])  # Maximum number of leaf nodes\n",
    "    # Uncomment below to tune the minimum samples required to be at a leaf node\n",
    "    # min_samples_leaf = trial.suggest_int('min_samples_leaf', 1, 20)\n",
    "    criterion = trial.suggest_categorical('criterion', ['gini', 'entropy'])  # Criterion for splitting\n",
    "\n",
    "    # Initialize the Random Forest Classifier with the suggested hyperparameters\n",
    "    model = RandomForestClassifier(\n",
    "        max_depth=max_depth,\n",
    "        max_leaf_nodes=max_leaf_nodes,\n",
    "        criterion=criterion,\n",
    "        random_state=42  # For reproducibility\n",
    "    )\n",
    "    \n",
    "    # Evaluate the model using cross-validation\n",
    "    # Compute the mean accuracy score across 5 folds\n",
    "    score = cross_val_score(model, encoded_train_data, train_emoticon_Y, cv=5, scoring='accuracy').mean()\n",
    "    \n",
    "    return score  # Return the mean accuracy score for the current set of hyperparameters\n",
    "\n",
    "# Create an Optuna study to optimize the objective function\n",
    "study = optuna.create_study(direction='maximize')  # Aim to maximize the score\n",
    "study.optimize(objective, n_trials=10)  # Optimize for 10 trials\n",
    "\n",
    "# Retrieve the best hyperparameters found during optimization\n",
    "best_params = study.best_params\n",
    "print(\"Best Hyperparameters: \", best_params)  # Print the best hyperparameters\n",
    "\n",
    "# Train the Random Forest model using the best hyperparameters obtained\n",
    "best_model = RandomForestClassifier(**best_params, random_state=42)\n",
    "best_model.fit(encoded_train_data, train_emoticon_Y)  # Fit the model to the training data\n",
    "\n",
    "# Evaluate the model on the validation set\n",
    "accuracy = best_model.score(encoded_val_data, val_emoticon_Y)  # Calculate accuracy\n",
    "print(f\"Accuracy on test set: {accuracy:.4f}\")  # Print the accuracy with 4 decimal places"
   ]
  },
  {
   "cell_type": "code",
   "execution_count": 25,
   "id": "4e09992b",
   "metadata": {},
   "outputs": [
    {
     "data": {
      "image/png": "[encoded data removed]",
      "text/plain": [
       "<Figure size 576x432 with 1 Axes>"
      ]
     },
     "metadata": {
      "needs_background": "light"
     },
     "output_type": "display_data"
    }
   ],
   "source": [
    "# Define the fractions (percentages) of the training data to use for training the model\n",
    "fraction = [20, 40, 60, 80, 100]\n",
    "\n",
    "# List to store the average validation accuracies for each fraction of training data\n",
    "validation_accuracies = []\n",
    "\n",
    "# Loop through each fraction of data (20%, 40%, 60%, 80%, 100%)\n",
    "for it in fraction:\n",
    "    # StratifiedKFold is used to split the data into 5 folds, ensuring class distribution is maintained\n",
    "    kf = StratifiedKFold(n_splits=5, shuffle=True, random_state=42)\n",
    "    fold_accuracies = []  # List to store accuracies for each fold in this fraction\n",
    "\n",
    "    # Perform cross-validation\n",
    "    for train_index, _ in kf.split(encoded_train_data2, train_emoticon_Y2):\n",
    "        # Split the training data into 'it%' for training and discard the rest\n",
    "        if it < 100:\n",
    "            # Use train_test_split to randomly sample 'it%' of the training data\n",
    "            X_train_subset, _, y_train_subset, _ = train_test_split(\n",
    "                encoded_train_data2[train_index], train_emoticon_Y2[train_index], \n",
    "                train_size=it * 0.01, random_state=42  # 'it * 0.01' converts percentage to fraction\n",
    "            )\n",
    "        else:\n",
    "            # If using 100%, select the entire training set\n",
    "            X_train_subset, y_train_subset = encoded_train_data2, train_emoticon_Y2\n",
    "\n",
    "        # Train the Decision Tree Classifier using the selected subset of training data\n",
    "        lr = RandomForestClassifier(**best_params, random_state=42)\n",
    "        model = lr.fit(X_train_subset, y_train_subset)\n",
    "\n",
    "        # Predict the labels on the entire validation set\n",
    "        y_pred = model.predict(encoded_val_data2)\n",
    "\n",
    "        # Calculate the accuracy on the validation set and append it to the fold accuracies\n",
    "        accuracy = accuracy_score(val_emoticon_Y2, y_pred)\n",
    "        fold_accuracies.append(accuracy)\n",
    "    \n",
    "    # Compute the average accuracy across all folds for the current fraction of training data\n",
    "    avg_accuracy = np.mean(fold_accuracies)\n",
    "    \n",
    "    # Append the average accuracy to the list for plotting later\n",
    "    validation_accuracies.append(avg_accuracy)\n",
    "\n",
    "# Plotting the graph of fraction of training data vs. validation accuracy\n",
    "plt.figure(figsize=(8, 6))  # Set the size of the plot\n",
    "plt.plot(fraction, validation_accuracies, marker='o', linestyle='-', color='b', label='Validation Accuracy')\n",
    "\n",
    "# Add labels to the x-axis and y-axis\n",
    "plt.xlabel('Training Data Percentage (%)')\n",
    "plt.ylabel('Validation Accuracy')\n",
    "\n",
    "# Add a title to the plot\n",
    "plt.title('Validation Accuracy vs. Training Data Percentage')\n",
    "\n",
    "# Enable grid lines for better visualization\n",
    "plt.grid(True)\n",
    "\n",
    "# Add a legend to the plot\n",
    "plt.legend()\n",
    "\n",
    "# Display the plot\n",
    "plt.show()"
   ]
  },
  {
   "cell_type": "code",
   "execution_count": null,
   "id": "312eb086",
   "metadata": {},
   "outputs": [],
   "source": []
  },
  {
   "cell_type": "code",
   "execution_count": null,
   "id": "1dc3a9f4",
   "metadata": {},
   "outputs": [],
   "source": []
  },
  {
   "cell_type": "code",
   "execution_count": null,
   "id": "ee35f358",
   "metadata": {},
   "outputs": [],
   "source": []
  },
  {
   "cell_type": "markdown",
   "id": "117ab96c",
   "metadata": {},
   "source": [
    "**4)SVM**"
   ]
  },
  {
   "cell_type": "code",
   "execution_count": 26,
   "id": "9335a2bd",
   "metadata": {},
   "outputs": [
    {
     "name": "stdout",
     "output_type": "stream",
     "text": [
      "Accuracy of the current model is: 89.77505112474438\n"
     ]
    }
   ],
   "source": [
    "# Initialize the Support Vector Classifier with a linear kernel\n",
    "rf = svm_classifier = SVC(kernel='linear')  # Create an instance of the SVC with a linear kernel\n",
    "\n",
    "# Fit the model to the training data\n",
    "model = rf.fit(encoded_train_data2, train_emoticon_Y2)  # Train the model on the encoded training data\n",
    "\n",
    "# Make predictions on the validation data\n",
    "pred = model.predict(encoded_val_data2)  # Predict labels for the validation set\n",
    "\n",
    "# Calculate accuracy on the validation set\n",
    "acc = accuracy_score(pred, val_emoticon_Y2)*100  # Compute the accuracy score by comparing predictions to true labels\n",
    "print(\"Accuracy of the current model is:\", acc)  # Print the accuracy of the current model on the validation set"
   ]
  },
  {
   "cell_type": "code",
   "execution_count": 24,
   "id": "1efbe9c2",
   "metadata": {},
   "outputs": [
    {
     "name": "stderr",
     "output_type": "stream",
     "text": [
      "[I 2024-10-12 21:40:41,339] A new study created in memory with name: no-name-c190fe6c-f653-4e89-8ea5-8b5660662717\n",
      "[I 2024-10-12 21:43:02,969] Trial 0 finished with value: 0.8556497175141242 and parameters: {'C': 10}. Best is trial 0 with value: 0.8556497175141242.\n",
      "[I 2024-10-12 21:45:17,779] Trial 1 finished with value: 0.8443502824858757 and parameters: {'C': 0.9}. Best is trial 0 with value: 0.8556497175141242.\n",
      "[I 2024-10-12 21:47:34,875] Trial 2 finished with value: 0.8423728813559321 and parameters: {'C': 0.7}. Best is trial 0 with value: 0.8556497175141242.\n",
      "[I 2024-10-12 21:49:46,782] Trial 3 finished with value: 0.8539548022598871 and parameters: {'C': 2}. Best is trial 0 with value: 0.8556497175141242.\n",
      "[I 2024-10-12 21:52:12,566] Trial 4 finished with value: 0.8576271186440678 and parameters: {'C': 7}. Best is trial 4 with value: 0.8576271186440678.\n",
      "[I 2024-10-12 21:54:40,637] Trial 5 finished with value: 0.8564971751412429 and parameters: {'C': 5}. Best is trial 4 with value: 0.8576271186440678.\n",
      "[I 2024-10-12 21:57:19,379] Trial 6 finished with value: 0.8481638418079097 and parameters: {'C': 1.5}. Best is trial 4 with value: 0.8576271186440678.\n",
      "[I 2024-10-12 22:00:11,926] Trial 7 finished with value: 0.8564971751412429 and parameters: {'C': 5}. Best is trial 4 with value: 0.8576271186440678.\n",
      "[I 2024-10-12 22:02:46,853] Trial 8 finished with value: 0.8564971751412429 and parameters: {'C': 5}. Best is trial 4 with value: 0.8576271186440678.\n",
      "[I 2024-10-12 22:05:13,447] Trial 9 finished with value: 0.8556497175141242 and parameters: {'C': 10}. Best is trial 4 with value: 0.8576271186440678.\n"
     ]
    },
    {
     "name": "stdout",
     "output_type": "stream",
     "text": [
      "Best Hyperparameters:  {'C': 7}\n",
      "Accuracy on test set: 0.8241\n"
     ]
    }
   ],
   "source": [
    "# Define the objective function for Optuna\n",
    "def objective(trial):\n",
    "    # Suggest values for the hyperparameters to be tuned\n",
    "    C = trial.suggest_categorical('C', [.5, .7, .9, 1.5, 2, 3, 4, 5, 6, 7, 10])  # Regularization parameter\n",
    "\n",
    "    # Initialize the Support Vector Classifier with the suggested hyperparameter\n",
    "    model = SVC(kernel='linear', C=C)  # Create an instance of SVC with a linear kernel and the chosen C value\n",
    "    \n",
    "    # Evaluate the model using cross-validation\n",
    "    # Compute the mean accuracy score across 5 folds\n",
    "    score = cross_val_score(model, encoded_train_data, train_emoticon_Y, cv=5, scoring='accuracy').mean()\n",
    "    \n",
    "    return score  # Return the mean accuracy score for the current set of hyperparameters\n",
    "\n",
    "# Create an Optuna study to optimize the objective function\n",
    "study = optuna.create_study(direction='maximize')  # Aim to maximize the score\n",
    "study.optimize(objective, n_trials=10)  # Optimize the objective function for 10 trials\n",
    "\n",
    "# Retrieve the best hyperparameters found during optimization\n",
    "best_params = study.best_params  # Get the best hyperparameters from the study\n",
    "print(\"Best Hyperparameters: \", best_params)  # Print the best hyperparameters\n",
    "\n",
    "# Train the model with the best hyperparameters\n",
    "best_model = SVC(**best_params, random_state=42)  # Create the SVC model with the best parameters\n",
    "best_model.fit(encoded_train_data, train_emoticon_Y)  # Fit the model to the training data\n",
    "\n",
    "# Evaluate the model on the validation set\n",
    "accuracy = best_model.score(encoded_val_data, val_emoticon_Y)  # Calculate accuracy on the validation set\n",
    "print(f\"Accuracy on validation set: {accuracy:.4f}\")  # Print the accuracy on the validation set with 4 decimal places\n",
    "\n",
    "# Optionally, evaluate the model on a separate test set (if available)\n",
    "# If you have a test dataset, you can calculate the accuracy as follows:\n",
    "# test_accuracy = best_model.score(encoded_test_data, test_emoticon_Y)  # Calculate accuracy on the test set\n",
    "# print(f\"Accuracy on test set: {test_accuracy:.4f}\")  # Print the accuracy on the test set with 4 decimal places\n"
   ]
  },
  {
   "cell_type": "code",
   "execution_count": 27,
   "id": "428de07c",
   "metadata": {},
   "outputs": [
    {
     "data": {
      "image/png": "[encoded data removed]",
      "text/plain": [
       "<Figure size 576x432 with 1 Axes>"
      ]
     },
     "metadata": {
      "needs_background": "light"
     },
     "output_type": "display_data"
    }
   ],
   "source": [
    "# Define the fractions of the training data to be used for evaluation\n",
    "fraction = [20, 40, 60, 80, 100]  # List of percentages to evaluate\n",
    "validation_accuracies = []  # Initialize a list to store validation accuracies for each fraction\n",
    "\n",
    "# Iterate over the defined fractions\n",
    "for it in fraction:\n",
    "    # Initialize StratifiedKFold for cross-validation\n",
    "    kf = StratifiedKFold(n_splits=5, shuffle=True, random_state=42)  # Create 5-fold cross-validation\n",
    "    fold_accuracies = []  # List to store accuracies for each fold\n",
    "    \n",
    "    # Perform cross-validation\n",
    "    for train_index, _ in kf.split(encoded_train_data2, train_emoticon_Y2):\n",
    "        # Split the training data to 'it%' of the total data\n",
    "        if it < 100:\n",
    "            X_train_subset, _, y_train_subset, _ = train_test_split(\n",
    "                encoded_train_data2[train_index], train_emoticon_Y2[train_index], \n",
    "                train_size=it * 0.01, random_state=42  # Use 'it%' of the training data\n",
    "            )\n",
    "        else:\n",
    "            # Use all data if 'it' is 100%\n",
    "            X_train_subset, y_train_subset = encoded_train_data2, train_emoticon_Y2\n",
    "        \n",
    "        # Train the model on the selected subset of training data\n",
    "        lr = SVC(kernel='linear')  # Initialize the Support Vector Classifier with a linear kernel\n",
    "        model = lr.fit(X_train_subset, y_train_subset)  # Fit the model to the training subset\n",
    "        \n",
    "        # Predict labels on the entire validation set\n",
    "        y_pred = model.predict(encoded_val_data2)  # Generate predictions for the validation set\n",
    "        \n",
    "        # Calculate accuracy on the validation set\n",
    "        accuracy = accuracy_score(val_emoticon_Y2, y_pred)  # Compute accuracy by comparing predictions to true labels\n",
    "        fold_accuracies.append(accuracy)  # Store the accuracy for this fold\n",
    "    \n",
    "    # Compute the average accuracy across all folds for this fraction\n",
    "    avg_accuracy = np.mean(fold_accuracies)  # Calculate the mean accuracy from the fold accuracies\n",
    "    validation_accuracies.append(avg_accuracy)  # Append the average accuracy to the list of validation accuracies\n",
    "\n",
    "# Plotting the graph to visualize the relationship between training data percentage and validation accuracy\n",
    "plt.figure(figsize=(8, 6))  # Set the figure size for the plot\n",
    "plt.plot(fraction, validation_accuracies, marker='o', linestyle='-', color='b', label='Validation Accuracy')  # Plot validation accuracy\n",
    "\n",
    "# Add labels and title to the plot\n",
    "plt.xlabel('Training Data Percentage (%)')  # Label for the x-axis\n",
    "plt.ylabel('Validation Accuracy')  # Label for the y-axis\n",
    "plt.title('Validation Accuracy vs. Training Data Percentage')  # Title of the plot\n",
    "plt.grid(True)  # Enable grid for better readability\n",
    "plt.legend()  # Show legend for the plot\n",
    "\n",
    "# Display the plot\n",
    "plt.show()  # Render the plot to the screen\n"
   ]
  }
 ],
 "metadata": {
  "kernelspec": {
   "display_name": "Python 3 (ipykernel)",
   "language": "python",
   "name": "python3"
  },
  "language_info": {
   "codemirror_mode": {
    "name": "ipython",
    "version": 3
   },
   "file_extension": ".py",
   "mimetype": "text/x-python",
   "name": "python",
   "nbconvert_exporter": "python",
   "pygments_lexer": "ipython3",
   "version": "3.9.12"
  }
 },
 "nbformat": 4,
 "nbformat_minor": 5
}
